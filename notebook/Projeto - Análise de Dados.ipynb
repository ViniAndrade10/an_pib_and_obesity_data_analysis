{
 "cells": [
  {
   "cell_type": "markdown",
   "id": "motivated-olympus",
   "metadata": {},
   "source": [
    "# Projeto - Análise de Dados\n",
    "\n",
    "1. [Obesity among adults by country, 1975-2016](https://www.kaggle.com/amanarora/obesity-among-adults-by-country-19752016/)\n",
    "2. [GDP Per Person (1901-2011)](https://www.kaggle.com/divyansh22/gdp-per-person-19012011?select=GDP.csv)"
   ]
  },
  {
   "cell_type": "code",
   "execution_count": 2,
   "id": "million-survival",
   "metadata": {},
   "outputs": [],
   "source": [
    "import pandas as pd\n",
    "import numpy as np\n",
    "from pathlib import Path\n",
    "import os\n",
    "import matplotlib.pyplot as plt\n",
    "import seaborn as sns"
   ]
  },
  {
   "cell_type": "code",
   "execution_count": 3,
   "id": "3807addd",
   "metadata": {},
   "outputs": [],
   "source": [
    "ROOT_PATH = Path().resolve().parent"
   ]
  },
  {
   "cell_type": "code",
   "execution_count": 4,
   "id": "09683cb7",
   "metadata": {},
   "outputs": [],
   "source": [
    "OBESITY_FILE = \"obesity-cleaned.csv\"\n",
    "OBESITY_FILE_PATH = os.path.join(ROOT_PATH, \"data\", OBESITY_FILE)"
   ]
  },
  {
   "cell_type": "markdown",
   "id": "becoming-princeton",
   "metadata": {},
   "source": [
    "## Perguntas - Obesity among adults by country, 1975-2016"
   ]
  },
  {
   "cell_type": "code",
   "execution_count": 5,
   "id": "formal-heater",
   "metadata": {},
   "outputs": [
    {
     "data": {
      "text/html": [
       "<div>\n",
       "<style scoped>\n",
       "    .dataframe tbody tr th:only-of-type {\n",
       "        vertical-align: middle;\n",
       "    }\n",
       "\n",
       "    .dataframe tbody tr th {\n",
       "        vertical-align: top;\n",
       "    }\n",
       "\n",
       "    .dataframe thead th {\n",
       "        text-align: right;\n",
       "    }\n",
       "</style>\n",
       "<table border=\"1\" class=\"dataframe\">\n",
       "  <thead>\n",
       "    <tr style=\"text-align: right;\">\n",
       "      <th></th>\n",
       "      <th>Unnamed: 0</th>\n",
       "      <th>Country</th>\n",
       "      <th>Year</th>\n",
       "      <th>Obesity (%)</th>\n",
       "      <th>Sex</th>\n",
       "    </tr>\n",
       "  </thead>\n",
       "  <tbody>\n",
       "    <tr>\n",
       "      <th>0</th>\n",
       "      <td>0</td>\n",
       "      <td>Afghanistan</td>\n",
       "      <td>1975</td>\n",
       "      <td>0.5 [0.2-1.1]</td>\n",
       "      <td>Both sexes</td>\n",
       "    </tr>\n",
       "    <tr>\n",
       "      <th>1</th>\n",
       "      <td>1</td>\n",
       "      <td>Afghanistan</td>\n",
       "      <td>1975</td>\n",
       "      <td>0.2 [0.0-0.6]</td>\n",
       "      <td>Male</td>\n",
       "    </tr>\n",
       "    <tr>\n",
       "      <th>2</th>\n",
       "      <td>2</td>\n",
       "      <td>Afghanistan</td>\n",
       "      <td>1975</td>\n",
       "      <td>0.8 [0.2-2.0]</td>\n",
       "      <td>Female</td>\n",
       "    </tr>\n",
       "    <tr>\n",
       "      <th>3</th>\n",
       "      <td>3</td>\n",
       "      <td>Afghanistan</td>\n",
       "      <td>1976</td>\n",
       "      <td>0.5 [0.2-1.1]</td>\n",
       "      <td>Both sexes</td>\n",
       "    </tr>\n",
       "    <tr>\n",
       "      <th>4</th>\n",
       "      <td>4</td>\n",
       "      <td>Afghanistan</td>\n",
       "      <td>1976</td>\n",
       "      <td>0.2 [0.0-0.7]</td>\n",
       "      <td>Male</td>\n",
       "    </tr>\n",
       "  </tbody>\n",
       "</table>\n",
       "</div>"
      ],
      "text/plain": [
       "   Unnamed: 0      Country  Year    Obesity (%)         Sex\n",
       "0           0  Afghanistan  1975  0.5 [0.2-1.1]  Both sexes\n",
       "1           1  Afghanistan  1975  0.2 [0.0-0.6]        Male\n",
       "2           2  Afghanistan  1975  0.8 [0.2-2.0]      Female\n",
       "3           3  Afghanistan  1976  0.5 [0.2-1.1]  Both sexes\n",
       "4           4  Afghanistan  1976  0.2 [0.0-0.7]        Male"
      ]
     },
     "execution_count": 5,
     "metadata": {},
     "output_type": "execute_result"
    }
   ],
   "source": [
    "df_obesity = pd.read_csv(OBESITY_FILE_PATH)\n",
    "df_obesity.head()"
   ]
  },
  {
   "cell_type": "markdown",
   "id": "divine-rebel",
   "metadata": {},
   "source": [
    "- Limpe os dados do DataFrame, criando uma coluna de nome 'Obesity' que conterá os valores de obesidade. Transforme em float as colunas que porventura foram importadas como string."
   ]
  },
  {
   "cell_type": "code",
   "execution_count": 6,
   "id": "cubic-minneapolis",
   "metadata": {},
   "outputs": [],
   "source": [
    "columns_to_go = [col for col in df_obesity.columns if not col.startswith(\"Unnamed\")]\n",
    "df_obesity = df_obesity.loc[:, columns_to_go]"
   ]
  },
  {
   "cell_type": "code",
   "execution_count": 7,
   "id": "5c4f5c45",
   "metadata": {},
   "outputs": [
    {
     "data": {
      "text/plain": [
       "Country        object\n",
       "Year            int64\n",
       "Obesity (%)    object\n",
       "Sex            object\n",
       "dtype: object"
      ]
     },
     "execution_count": 7,
     "metadata": {},
     "output_type": "execute_result"
    }
   ],
   "source": [
    "df_obesity.dtypes"
   ]
  },
  {
   "cell_type": "code",
   "execution_count": 8,
   "id": "73cd8f61",
   "metadata": {},
   "outputs": [],
   "source": [
    "df_obesity[\"Obesity\"] = df_obesity[\"Obesity (%)\"].apply(\n",
    "    lambda x: x.split(\" \")[0]\n",
    "    )\n",
    "\n",
    "df_obesity[\"Obesity\"] = df_obesity[\"Obesity\"].apply(\n",
    "    lambda x: x if \".\" in x else \"0.0\"\n",
    "    ).astype(float)"
   ]
  },
  {
   "cell_type": "markdown",
   "id": "voluntary-temperature",
   "metadata": {},
   "source": [
    "- Qual o percentual médio de obesidade por sexo no mundo no ano de 2015?"
   ]
  },
  {
   "cell_type": "code",
   "execution_count": 9,
   "id": "afraid-reminder",
   "metadata": {},
   "outputs": [
    {
     "name": "stdout",
     "output_type": "stream",
     "text": [
      "Percentual Médio da Obesidade mundial em 2015:\n"
     ]
    },
    {
     "data": {
      "text/html": [
       "<div>\n",
       "<style scoped>\n",
       "    .dataframe tbody tr th:only-of-type {\n",
       "        vertical-align: middle;\n",
       "    }\n",
       "\n",
       "    .dataframe tbody tr th {\n",
       "        vertical-align: top;\n",
       "    }\n",
       "\n",
       "    .dataframe thead th {\n",
       "        text-align: right;\n",
       "    }\n",
       "</style>\n",
       "<table border=\"1\" class=\"dataframe\">\n",
       "  <thead>\n",
       "    <tr style=\"text-align: right;\">\n",
       "      <th></th>\n",
       "      <th>Obesity</th>\n",
       "    </tr>\n",
       "    <tr>\n",
       "      <th>Sex</th>\n",
       "      <th></th>\n",
       "    </tr>\n",
       "  </thead>\n",
       "  <tbody>\n",
       "    <tr>\n",
       "      <th>Both sexes</th>\n",
       "      <td>19.108205</td>\n",
       "    </tr>\n",
       "    <tr>\n",
       "      <th>Female</th>\n",
       "      <td>22.429744</td>\n",
       "    </tr>\n",
       "    <tr>\n",
       "      <th>Male</th>\n",
       "      <td>15.652821</td>\n",
       "    </tr>\n",
       "  </tbody>\n",
       "</table>\n",
       "</div>"
      ],
      "text/plain": [
       "              Obesity\n",
       "Sex                  \n",
       "Both sexes  19.108205\n",
       "Female      22.429744\n",
       "Male        15.652821"
      ]
     },
     "execution_count": 9,
     "metadata": {},
     "output_type": "execute_result"
    }
   ],
   "source": [
    "avg_obesity_2015 = df_obesity[df_obesity[\"Year\"]==2015].groupby(\"Sex\").agg({\"Obesity\":\"mean\"})\n",
    "print(f\"Percentual Médio da Obesidade mundial em 2015:\")\n",
    "avg_obesity_2015"
   ]
  },
  {
   "cell_type": "markdown",
   "id": "expected-kruger",
   "metadata": {},
   "source": [
    "- Quais são os 5 países com a maior e a menor taxa de aumento nos índices de obesidade no período observado?"
   ]
  },
  {
   "cell_type": "code",
   "execution_count": 10,
   "id": "05a15ff2",
   "metadata": {},
   "outputs": [],
   "source": [
    "year_list = df_obesity[\"Year\"].unique()\n",
    "\n",
    "start_year = year_list[0]\n",
    "end_year = year_list[-1]\n",
    "\n",
    "needed_cols = [\"Year\", \"Country\", \"Obesity\"]\n",
    "df_obesity_start = df_obesity[df_obesity[\"Year\"]==start_year].loc[:, needed_cols]\n",
    "df_obesity_end = df_obesity[df_obesity[\"Year\"]==end_year].loc[:, needed_cols]\n",
    "\n",
    "df_obesity_increase_rate = pd.concat([df_obesity_start, df_obesity_end], axis=0)"
   ]
  },
  {
   "cell_type": "code",
   "execution_count": 11,
   "id": "ad37364a",
   "metadata": {},
   "outputs": [],
   "source": [
    "df_obesity_increase_rate = df_obesity_increase_rate.pivot_table(\n",
    "        values=\"Obesity\", index=\"Country\", columns=\"Year\"\n",
    "    ).reset_index()\n",
    "\n",
    "df_obesity_increase_rate[\"rate\"] = df_obesity_increase_rate[end_year] - df_obesity_increase_rate[start_year]"
   ]
  },
  {
   "cell_type": "code",
   "execution_count": 12,
   "id": "61d94307",
   "metadata": {},
   "outputs": [],
   "source": [
    "df_obesity_increase_rate = df_obesity_increase_rate.sort_values(\n",
    "    by=\"rate\", ascending=False\n",
    "    ).reset_index(drop=True)\n",
    "\n",
    "top_5_higher_rate = df_obesity_increase_rate.head(5)\n",
    "top_5_lower_rate = df_obesity_increase_rate.tail(5)"
   ]
  },
  {
   "cell_type": "code",
   "execution_count": 13,
   "id": "8b0876d2",
   "metadata": {},
   "outputs": [
    {
     "data": {
      "text/html": [
       "<div>\n",
       "<style scoped>\n",
       "    .dataframe tbody tr th:only-of-type {\n",
       "        vertical-align: middle;\n",
       "    }\n",
       "\n",
       "    .dataframe tbody tr th {\n",
       "        vertical-align: top;\n",
       "    }\n",
       "\n",
       "    .dataframe thead th {\n",
       "        text-align: right;\n",
       "    }\n",
       "</style>\n",
       "<table border=\"1\" class=\"dataframe\">\n",
       "  <thead>\n",
       "    <tr style=\"text-align: right;\">\n",
       "      <th>Year</th>\n",
       "      <th>Country</th>\n",
       "      <th>1975</th>\n",
       "      <th>2016</th>\n",
       "      <th>rate</th>\n",
       "    </tr>\n",
       "  </thead>\n",
       "  <tbody>\n",
       "    <tr>\n",
       "      <th>0</th>\n",
       "      <td>Tuvalu</td>\n",
       "      <td>17.933333</td>\n",
       "      <td>51.600000</td>\n",
       "      <td>33.666667</td>\n",
       "    </tr>\n",
       "    <tr>\n",
       "      <th>1</th>\n",
       "      <td>Niue</td>\n",
       "      <td>18.966667</td>\n",
       "      <td>49.966667</td>\n",
       "      <td>31.000000</td>\n",
       "    </tr>\n",
       "    <tr>\n",
       "      <th>2</th>\n",
       "      <td>Kiribati</td>\n",
       "      <td>16.000000</td>\n",
       "      <td>46.000000</td>\n",
       "      <td>30.000000</td>\n",
       "    </tr>\n",
       "    <tr>\n",
       "      <th>3</th>\n",
       "      <td>Tonga</td>\n",
       "      <td>19.933333</td>\n",
       "      <td>48.033333</td>\n",
       "      <td>28.100000</td>\n",
       "    </tr>\n",
       "    <tr>\n",
       "      <th>4</th>\n",
       "      <td>Cook Islands</td>\n",
       "      <td>28.033333</td>\n",
       "      <td>55.900000</td>\n",
       "      <td>27.866667</td>\n",
       "    </tr>\n",
       "  </tbody>\n",
       "</table>\n",
       "</div>"
      ],
      "text/plain": [
       "Year       Country       1975       2016       rate\n",
       "0           Tuvalu  17.933333  51.600000  33.666667\n",
       "1             Niue  18.966667  49.966667  31.000000\n",
       "2         Kiribati  16.000000  46.000000  30.000000\n",
       "3            Tonga  19.933333  48.033333  28.100000\n",
       "4     Cook Islands  28.033333  55.900000  27.866667"
      ]
     },
     "execution_count": 13,
     "metadata": {},
     "output_type": "execute_result"
    }
   ],
   "source": [
    "top_5_higher_rate"
   ]
  },
  {
   "cell_type": "code",
   "execution_count": 14,
   "id": "4259b509",
   "metadata": {},
   "outputs": [
    {
     "data": {
      "text/html": [
       "<div>\n",
       "<style scoped>\n",
       "    .dataframe tbody tr th:only-of-type {\n",
       "        vertical-align: middle;\n",
       "    }\n",
       "\n",
       "    .dataframe tbody tr th {\n",
       "        vertical-align: top;\n",
       "    }\n",
       "\n",
       "    .dataframe thead th {\n",
       "        text-align: right;\n",
       "    }\n",
       "</style>\n",
       "<table border=\"1\" class=\"dataframe\">\n",
       "  <thead>\n",
       "    <tr style=\"text-align: right;\">\n",
       "      <th>Year</th>\n",
       "      <th>Country</th>\n",
       "      <th>1975</th>\n",
       "      <th>2016</th>\n",
       "      <th>rate</th>\n",
       "    </tr>\n",
       "  </thead>\n",
       "  <tbody>\n",
       "    <tr>\n",
       "      <th>190</th>\n",
       "      <td>Viet Nam</td>\n",
       "      <td>0.133333</td>\n",
       "      <td>2.1</td>\n",
       "      <td>1.966667</td>\n",
       "    </tr>\n",
       "    <tr>\n",
       "      <th>191</th>\n",
       "      <td>South Sudan</td>\n",
       "      <td>0.000000</td>\n",
       "      <td>0.0</td>\n",
       "      <td>0.000000</td>\n",
       "    </tr>\n",
       "    <tr>\n",
       "      <th>192</th>\n",
       "      <td>Monaco</td>\n",
       "      <td>0.000000</td>\n",
       "      <td>0.0</td>\n",
       "      <td>0.000000</td>\n",
       "    </tr>\n",
       "    <tr>\n",
       "      <th>193</th>\n",
       "      <td>San Marino</td>\n",
       "      <td>0.000000</td>\n",
       "      <td>0.0</td>\n",
       "      <td>0.000000</td>\n",
       "    </tr>\n",
       "    <tr>\n",
       "      <th>194</th>\n",
       "      <td>Sudan</td>\n",
       "      <td>0.000000</td>\n",
       "      <td>0.0</td>\n",
       "      <td>0.000000</td>\n",
       "    </tr>\n",
       "  </tbody>\n",
       "</table>\n",
       "</div>"
      ],
      "text/plain": [
       "Year      Country      1975  2016      rate\n",
       "190      Viet Nam  0.133333   2.1  1.966667\n",
       "191   South Sudan  0.000000   0.0  0.000000\n",
       "192        Monaco  0.000000   0.0  0.000000\n",
       "193    San Marino  0.000000   0.0  0.000000\n",
       "194         Sudan  0.000000   0.0  0.000000"
      ]
     },
     "execution_count": 14,
     "metadata": {},
     "output_type": "execute_result"
    }
   ],
   "source": [
    "top_5_lower_rate"
   ]
  },
  {
   "cell_type": "markdown",
   "id": "efficient-buyer",
   "metadata": {},
   "source": [
    "- Quais os países com maiores e menores níveis percetuais de obesidade em 2015?"
   ]
  },
  {
   "cell_type": "code",
   "execution_count": 15,
   "id": "violent-warren",
   "metadata": {},
   "outputs": [],
   "source": [
    "df_obesity_agg_2015 = df_obesity[df_obesity[\"Year\"]==2015].groupby(\n",
    "    [\"Country\"]\n",
    "    ).agg({\"Obesity\": \"mean\"}).sort_values(by=\"Obesity\")"
   ]
  },
  {
   "cell_type": "code",
   "execution_count": 16,
   "id": "d4aaeb72",
   "metadata": {},
   "outputs": [
    {
     "name": "stdout",
     "output_type": "stream",
     "text": [
      "Abaixo, estão os países com os MENORES níveis de obesidade em 2015 \n",
      "TOP 5:\n",
      "{'Viet Nam': 1.9666666666666668, 'Sudan': 0.0, 'San Marino': 0.0, 'Monaco': 0.0, 'South Sudan': 0.0}\n"
     ]
    }
   ],
   "source": [
    "print(\"Abaixo, estão os países com os MENORES níveis de obesidade em 2015 \")\n",
    "\n",
    "print(\"TOP 5:\")\n",
    "print(df_obesity_agg_2015.head(5).sort_values(\n",
    "    by=\"Obesity\", ascending=False\n",
    "    ).to_dict()[\"Obesity\"])"
   ]
  },
  {
   "cell_type": "code",
   "execution_count": 17,
   "id": "605c2757",
   "metadata": {},
   "outputs": [
    {
     "name": "stdout",
     "output_type": "stream",
     "text": [
      "Abaixo, estão os países com os MAIORES níveis de obesidade em 2015 \n",
      "TOP 5:\n",
      "{'Nauru': 60.666666666666664, 'Cook Islands': 55.4, 'Palau': 54.76666666666667, 'Marshall Islands': 52.333333333333336, 'Tuvalu': 50.9}\n"
     ]
    }
   ],
   "source": [
    "print(\"Abaixo, estão os países com os MAIORES níveis de obesidade em 2015 \")\n",
    "\n",
    "print(\"TOP 5:\")\n",
    "print(df_obesity_agg_2015.tail(5).sort_values(\n",
    "    by=\"Obesity\", ascending=False\n",
    "    ).to_dict()[\"Obesity\"])"
   ]
  },
  {
   "cell_type": "markdown",
   "id": "average-holiday",
   "metadata": {},
   "source": [
    "- Qual a diferença média percentual de obesidade entre sexos ao longo dos anos para o Brasil?"
   ]
  },
  {
   "cell_type": "code",
   "execution_count": 18,
   "id": "later-occurrence",
   "metadata": {},
   "outputs": [
    {
     "data": {
      "text/html": [
       "<div>\n",
       "<style scoped>\n",
       "    .dataframe tbody tr th:only-of-type {\n",
       "        vertical-align: middle;\n",
       "    }\n",
       "\n",
       "    .dataframe tbody tr th {\n",
       "        vertical-align: top;\n",
       "    }\n",
       "\n",
       "    .dataframe thead th {\n",
       "        text-align: right;\n",
       "    }\n",
       "</style>\n",
       "<table border=\"1\" class=\"dataframe\">\n",
       "  <thead>\n",
       "    <tr style=\"text-align: right;\">\n",
       "      <th>Sex</th>\n",
       "      <th>Country</th>\n",
       "      <th>Year</th>\n",
       "      <th>Both sexes</th>\n",
       "      <th>Female</th>\n",
       "      <th>Male</th>\n",
       "    </tr>\n",
       "  </thead>\n",
       "  <tbody>\n",
       "    <tr>\n",
       "      <th>0</th>\n",
       "      <td>Brazil</td>\n",
       "      <td>1975</td>\n",
       "      <td>5.2</td>\n",
       "      <td>7.3</td>\n",
       "      <td>3.0</td>\n",
       "    </tr>\n",
       "    <tr>\n",
       "      <th>1</th>\n",
       "      <td>Brazil</td>\n",
       "      <td>1976</td>\n",
       "      <td>5.5</td>\n",
       "      <td>7.6</td>\n",
       "      <td>3.2</td>\n",
       "    </tr>\n",
       "    <tr>\n",
       "      <th>2</th>\n",
       "      <td>Brazil</td>\n",
       "      <td>1977</td>\n",
       "      <td>5.7</td>\n",
       "      <td>8.0</td>\n",
       "      <td>3.4</td>\n",
       "    </tr>\n",
       "    <tr>\n",
       "      <th>3</th>\n",
       "      <td>Brazil</td>\n",
       "      <td>1978</td>\n",
       "      <td>6.0</td>\n",
       "      <td>8.3</td>\n",
       "      <td>3.6</td>\n",
       "    </tr>\n",
       "    <tr>\n",
       "      <th>4</th>\n",
       "      <td>Brazil</td>\n",
       "      <td>1979</td>\n",
       "      <td>6.3</td>\n",
       "      <td>8.7</td>\n",
       "      <td>3.8</td>\n",
       "    </tr>\n",
       "  </tbody>\n",
       "</table>\n",
       "</div>"
      ],
      "text/plain": [
       "Sex Country  Year  Both sexes  Female  Male\n",
       "0    Brazil  1975         5.2     7.3   3.0\n",
       "1    Brazil  1976         5.5     7.6   3.2\n",
       "2    Brazil  1977         5.7     8.0   3.4\n",
       "3    Brazil  1978         6.0     8.3   3.6\n",
       "4    Brazil  1979         6.3     8.7   3.8"
      ]
     },
     "execution_count": 18,
     "metadata": {},
     "output_type": "execute_result"
    }
   ],
   "source": [
    "df_obesity_brazil = df_obesity[df_obesity[\"Country\"]==\"Brazil\"].pivot_table(\n",
    "    columns=[\"Sex\"], values=\"Obesity\", index=[\"Country\", \"Year\"]\n",
    ").reset_index()\n",
    "\n",
    "df_obesity_brazil.head()"
   ]
  },
  {
   "cell_type": "code",
   "execution_count": 19,
   "id": "0256c04d",
   "metadata": {},
   "outputs": [],
   "source": [
    "df_obesity_brazil[\"diff_percent\"] = (\n",
    "    (df_obesity_brazil[\"Female\"] - df_obesity_brazil[\"Male\"])\n",
    "    )"
   ]
  },
  {
   "cell_type": "code",
   "execution_count": 20,
   "id": "e234d550",
   "metadata": {},
   "outputs": [
    {
     "name": "stdout",
     "output_type": "stream",
     "text": [
      "A diferença média percentual de obesidade entre sexos ao longo dos anos para o Brasil é de: 6.18 %\n"
     ]
    }
   ],
   "source": [
    "avg_percent_years_brazil = np.mean(df_obesity_brazil[\"diff_percent\"])\n",
    "avg_percent_years_brazil = round(avg_percent_years_brazil, ndigits=2)\n",
    "\n",
    "print(f\"A diferença média percentual de obesidade entre sexos ao longo dos anos para o Brasil é de: {avg_percent_years_brazil} %\")"
   ]
  },
  {
   "cell_type": "markdown",
   "id": "rising-exhaust",
   "metadata": {},
   "source": [
    "- Você conseguiria plotar um gráfico mostrando a evolução da obesidade para ambos sexos no mundo?"
   ]
  },
  {
   "cell_type": "code",
   "execution_count": 21,
   "id": "0db33b4e",
   "metadata": {},
   "outputs": [],
   "source": [
    "df_obesity_sex_values = df_obesity.groupby(\n",
    "    [\"Year\", \"Sex\"]\n",
    "    ).agg({\"Obesity\": \"mean\"}).reset_index()\n",
    "\n",
    "\n",
    "df_obesity_sex_values = df_obesity_sex_values.pivot_table(\n",
    "    index=\"Year\", values=\"Obesity\", columns=\"Sex\"\n",
    "    ).reset_index()"
   ]
  },
  {
   "cell_type": "code",
   "execution_count": 22,
   "id": "b6ea2bb8",
   "metadata": {},
   "outputs": [
    {
     "data": {
      "image/png": "[encoded data removed]",
      "text/plain": [
       "<Figure size 1000x400 with 1 Axes>"
      ]
     },
     "metadata": {},
     "output_type": "display_data"
    }
   ],
   "source": [
    "plt.figure(figsize=(10, 4))\n",
    "sns.lineplot(data=df_obesity_sex_values, x=\"Year\", y=\"Female\", label=\"Female\")\n",
    "sns.lineplot(data=df_obesity_sex_values, x=\"Year\", y=\"Male\", label=\"Male\")\n",
    "plt.legend()\n",
    "plt.ylabel(\"Níveis de Obesidade\")\n",
    "plt.xlabel(\"Anos\")\n",
    "plt.title(\"Níveis de obesidade médios no mundo de 1975-2016\", loc=\"left\")\n",
    "plt.show()"
   ]
  },
  {
   "cell_type": "code",
   "execution_count": 23,
   "id": "10c82472",
   "metadata": {},
   "outputs": [
    {
     "data": {
      "image/png": "[encoded data removed]",
      "text/plain": [
       "<Figure size 1000x400 with 1 Axes>"
      ]
     },
     "metadata": {},
     "output_type": "display_data"
    }
   ],
   "source": [
    "plt.figure(figsize=(10, 4))\n",
    "sns.lineplot(data=df_obesity_sex_values, x=\"Year\", y=\"Both sexes\", label=\"Both sexes\")\n",
    "plt.legend()\n",
    "plt.ylabel(\"Níveis de Obesidade\")\n",
    "plt.xlabel(\"Anos\")\n",
    "plt.title(\"Níveis de obesidade médios no mundo de 1975-2016\", loc=\"left\")\n",
    "plt.show()"
   ]
  },
  {
   "cell_type": "markdown",
   "id": "labeled-rainbow",
   "metadata": {},
   "source": [
    "## Perguntas - GDP Per Person (1901-2011)"
   ]
  },
  {
   "cell_type": "code",
   "execution_count": 24,
   "id": "a138fa19",
   "metadata": {},
   "outputs": [],
   "source": [
    "GDP_FILE = \"GDP.csv\"\n",
    "GDP_FILE_PATH = os.path.join(ROOT_PATH, \"data\", GDP_FILE)"
   ]
  },
  {
   "cell_type": "code",
   "execution_count": 25,
   "id": "thermal-breeding",
   "metadata": {},
   "outputs": [
    {
     "data": {
      "text/html": [
       "<div>\n",
       "<style scoped>\n",
       "    .dataframe tbody tr th:only-of-type {\n",
       "        vertical-align: middle;\n",
       "    }\n",
       "\n",
       "    .dataframe tbody tr th {\n",
       "        vertical-align: top;\n",
       "    }\n",
       "\n",
       "    .dataframe thead th {\n",
       "        text-align: right;\n",
       "    }\n",
       "</style>\n",
       "<table border=\"1\" class=\"dataframe\">\n",
       "  <thead>\n",
       "    <tr style=\"text-align: right;\">\n",
       "      <th></th>\n",
       "      <th>Country</th>\n",
       "      <th>Region</th>\n",
       "      <th>Year</th>\n",
       "      <th>GDP_pp</th>\n",
       "    </tr>\n",
       "  </thead>\n",
       "  <tbody>\n",
       "    <tr>\n",
       "      <th>0</th>\n",
       "      <td>Afghanistan</td>\n",
       "      <td>Middle East, North Africa, and Greater Arabia</td>\n",
       "      <td>1/1/1901</td>\n",
       "      <td>613.99</td>\n",
       "    </tr>\n",
       "    <tr>\n",
       "      <th>1</th>\n",
       "      <td>Afghanistan</td>\n",
       "      <td>Middle East, North Africa, and Greater Arabia</td>\n",
       "      <td>1/1/1906</td>\n",
       "      <td>624.04</td>\n",
       "    </tr>\n",
       "    <tr>\n",
       "      <th>2</th>\n",
       "      <td>Afghanistan</td>\n",
       "      <td>Middle East, North Africa, and Greater Arabia</td>\n",
       "      <td>1/1/1911</td>\n",
       "      <td>634.25</td>\n",
       "    </tr>\n",
       "    <tr>\n",
       "      <th>3</th>\n",
       "      <td>Afghanistan</td>\n",
       "      <td>Middle East, North Africa, and Greater Arabia</td>\n",
       "      <td>1/1/1916</td>\n",
       "      <td>647.28</td>\n",
       "    </tr>\n",
       "    <tr>\n",
       "      <th>4</th>\n",
       "      <td>Afghanistan</td>\n",
       "      <td>Middle East, North Africa, and Greater Arabia</td>\n",
       "      <td>1/1/1921</td>\n",
       "      <td>662.40</td>\n",
       "    </tr>\n",
       "    <tr>\n",
       "      <th>...</th>\n",
       "      <td>...</td>\n",
       "      <td>...</td>\n",
       "      <td>...</td>\n",
       "      <td>...</td>\n",
       "    </tr>\n",
       "    <tr>\n",
       "      <th>4414</th>\n",
       "      <td>Zimbabwe</td>\n",
       "      <td>Sub-Saharan Africa</td>\n",
       "      <td>1/1/1991</td>\n",
       "      <td>782.09</td>\n",
       "    </tr>\n",
       "    <tr>\n",
       "      <th>4415</th>\n",
       "      <td>Zimbabwe</td>\n",
       "      <td>Sub-Saharan Africa</td>\n",
       "      <td>1/1/1996</td>\n",
       "      <td>781.50</td>\n",
       "    </tr>\n",
       "    <tr>\n",
       "      <th>4416</th>\n",
       "      <td>Zimbabwe</td>\n",
       "      <td>Sub-Saharan Africa</td>\n",
       "      <td>1/1/2001</td>\n",
       "      <td>719.96</td>\n",
       "    </tr>\n",
       "    <tr>\n",
       "      <th>4417</th>\n",
       "      <td>Zimbabwe</td>\n",
       "      <td>Sub-Saharan Africa</td>\n",
       "      <td>1/1/2006</td>\n",
       "      <td>520.17</td>\n",
       "    </tr>\n",
       "    <tr>\n",
       "      <th>4418</th>\n",
       "      <td>Zimbabwe</td>\n",
       "      <td>Sub-Saharan Africa</td>\n",
       "      <td>1/1/2011</td>\n",
       "      <td>526.33</td>\n",
       "    </tr>\n",
       "  </tbody>\n",
       "</table>\n",
       "<p>4419 rows × 4 columns</p>\n",
       "</div>"
      ],
      "text/plain": [
       "          Country                                         Region      Year  \\\n",
       "0     Afghanistan  Middle East, North Africa, and Greater Arabia  1/1/1901   \n",
       "1     Afghanistan  Middle East, North Africa, and Greater Arabia  1/1/1906   \n",
       "2     Afghanistan  Middle East, North Africa, and Greater Arabia  1/1/1911   \n",
       "3     Afghanistan  Middle East, North Africa, and Greater Arabia  1/1/1916   \n",
       "4     Afghanistan  Middle East, North Africa, and Greater Arabia  1/1/1921   \n",
       "...           ...                                            ...       ...   \n",
       "4414     Zimbabwe                             Sub-Saharan Africa  1/1/1991   \n",
       "4415     Zimbabwe                             Sub-Saharan Africa  1/1/1996   \n",
       "4416     Zimbabwe                             Sub-Saharan Africa  1/1/2001   \n",
       "4417     Zimbabwe                             Sub-Saharan Africa  1/1/2006   \n",
       "4418     Zimbabwe                             Sub-Saharan Africa  1/1/2011   \n",
       "\n",
       "       GDP_pp   \n",
       "0      613.99   \n",
       "1      624.04   \n",
       "2      634.25   \n",
       "3      647.28   \n",
       "4      662.40   \n",
       "...        ...  \n",
       "4414   782.09   \n",
       "4415   781.50   \n",
       "4416   719.96   \n",
       "4417   520.17   \n",
       "4418   526.33   \n",
       "\n",
       "[4419 rows x 4 columns]"
      ]
     },
     "execution_count": 25,
     "metadata": {},
     "output_type": "execute_result"
    }
   ],
   "source": [
    "df_gdp = pd.read_csv(GDP_FILE_PATH, decimal=\".\")\n",
    "df_gdp"
   ]
  },
  {
   "cell_type": "code",
   "execution_count": 26,
   "id": "28ad6e94",
   "metadata": {},
   "outputs": [],
   "source": [
    "cols_gdp = [col.strip() for col in df_gdp.columns]\n",
    "rename_cols = dict(zip(df_gdp.columns, cols_gdp))\n",
    "\n",
    "df_gdp = df_gdp.rename(columns=rename_cols)"
   ]
  },
  {
   "cell_type": "markdown",
   "id": "suffering-guitar",
   "metadata": {},
   "source": [
    "- Limpe o conjunto de dados, convertendo strings em datas ou float, quando necessário."
   ]
  },
  {
   "cell_type": "code",
   "execution_count": 27,
   "id": "fae8917d",
   "metadata": {},
   "outputs": [],
   "source": [
    "df_gdp[\"Year\"] = df_gdp[\"Year\"].apply(\n",
    "    lambda x: x.split(\"/\")[2]\n",
    ").astype(int)\n",
    "\n",
    "df_gdp[\"GDP_pp\"] = df_gdp[\"GDP_pp\"].apply(lambda x: x.replace(\",\", \"\"))"
   ]
  },
  {
   "cell_type": "code",
   "execution_count": 28,
   "id": "112bcafd",
   "metadata": {},
   "outputs": [],
   "source": [
    "df_gdp[\"GDP_pp\"] = pd.to_numeric(df_gdp[\"GDP_pp\"])"
   ]
  },
  {
   "cell_type": "markdown",
   "id": "studied-validity",
   "metadata": {},
   "source": [
    "- Você conseguiria informar o primeiro valor registrado de cada país?"
   ]
  },
  {
   "cell_type": "code",
   "execution_count": 29,
   "id": "frequent-rental",
   "metadata": {},
   "outputs": [
    {
     "data": {
      "text/plain": [
       "Year\n",
       "1901    192\n",
       "1991      1\n",
       "Name: count, dtype: int64"
      ]
     },
     "execution_count": 29,
     "metadata": {},
     "output_type": "execute_result"
    }
   ],
   "source": [
    "df_gdp.groupby(\"Country\")[\"Year\"].min().value_counts()"
   ]
  },
  {
   "cell_type": "code",
   "execution_count": 30,
   "id": "bbb6b4e4",
   "metadata": {},
   "outputs": [
    {
     "data": {
      "text/plain": [
       "Country\n",
       "Kosovo    1991\n",
       "Name: Year, dtype: int32"
      ]
     },
     "execution_count": 30,
     "metadata": {},
     "output_type": "execute_result"
    }
   ],
   "source": [
    "df_gdp.groupby(\"Country\")[\"Year\"].min()[df_gdp.groupby(\"Country\")[\"Year\"].min() == 1991]"
   ]
  },
  {
   "cell_type": "markdown",
   "id": "tutorial-softball",
   "metadata": {},
   "source": [
    "- Informe as regiões com maiores crescimentos de PIB per capita no século passado."
   ]
  },
  {
   "cell_type": "code",
   "execution_count": 31,
   "id": "given-colorado",
   "metadata": {},
   "outputs": [],
   "source": [
    "start_year_gdp = pd.DataFrame(df_gdp.groupby(\"Region\")[\"Year\"].min()).reset_index()\n",
    "end_year_gdp = pd.DataFrame(df_gdp[df_gdp[\"Year\"]<2000].groupby(\"Region\")[\"Year\"].max()).reset_index()"
   ]
  },
  {
   "cell_type": "code",
   "execution_count": 32,
   "id": "94f0e83d",
   "metadata": {},
   "outputs": [],
   "source": [
    "df_gdp_start = pd.merge(\n",
    "        left=start_year_gdp,\n",
    "        right=df_gdp,\n",
    "        on=[\"Region\", \"Year\"]\n",
    "    )\n",
    "\n",
    "df_gdp_end = pd.merge(\n",
    "        left=end_year_gdp,\n",
    "        right=df_gdp,\n",
    "        on=[\"Region\", \"Year\"]\n",
    "    )\n"
   ]
  },
  {
   "cell_type": "code",
   "execution_count": 33,
   "id": "55c8a8f2",
   "metadata": {},
   "outputs": [
    {
     "data": {
      "text/html": [
       "<div>\n",
       "<style scoped>\n",
       "    .dataframe tbody tr th:only-of-type {\n",
       "        vertical-align: middle;\n",
       "    }\n",
       "\n",
       "    .dataframe tbody tr th {\n",
       "        vertical-align: top;\n",
       "    }\n",
       "\n",
       "    .dataframe thead th {\n",
       "        text-align: right;\n",
       "    }\n",
       "</style>\n",
       "<table border=\"1\" class=\"dataframe\">\n",
       "  <thead>\n",
       "    <tr style=\"text-align: right;\">\n",
       "      <th>Year</th>\n",
       "      <th>Region</th>\n",
       "      <th>1901</th>\n",
       "      <th>1996</th>\n",
       "    </tr>\n",
       "  </thead>\n",
       "  <tbody>\n",
       "    <tr>\n",
       "      <th>0</th>\n",
       "      <td>Asia</td>\n",
       "      <td>900.756296</td>\n",
       "      <td>7311.992963</td>\n",
       "    </tr>\n",
       "    <tr>\n",
       "      <th>1</th>\n",
       "      <td>Australia and Oceania</td>\n",
       "      <td>1492.222000</td>\n",
       "      <td>7402.546000</td>\n",
       "    </tr>\n",
       "    <tr>\n",
       "      <th>2</th>\n",
       "      <td>Central America and the Caribbean</td>\n",
       "      <td>1460.596842</td>\n",
       "      <td>7396.853684</td>\n",
       "    </tr>\n",
       "    <tr>\n",
       "      <th>3</th>\n",
       "      <td>Europe</td>\n",
       "      <td>2583.788478</td>\n",
       "      <td>17932.684894</td>\n",
       "    </tr>\n",
       "    <tr>\n",
       "      <th>4</th>\n",
       "      <td>Middle East, North Africa, and Greater Arabia</td>\n",
       "      <td>1164.350000</td>\n",
       "      <td>11145.343913</td>\n",
       "    </tr>\n",
       "    <tr>\n",
       "      <th>5</th>\n",
       "      <td>North America</td>\n",
       "      <td>3676.015000</td>\n",
       "      <td>25355.687500</td>\n",
       "    </tr>\n",
       "    <tr>\n",
       "      <th>6</th>\n",
       "      <td>South America</td>\n",
       "      <td>1638.665833</td>\n",
       "      <td>6753.330833</td>\n",
       "    </tr>\n",
       "    <tr>\n",
       "      <th>7</th>\n",
       "      <td>Sub-Saharan Africa</td>\n",
       "      <td>650.119783</td>\n",
       "      <td>2266.537174</td>\n",
       "    </tr>\n",
       "  </tbody>\n",
       "</table>\n",
       "</div>"
      ],
      "text/plain": [
       "Year                                         Region         1901          1996\n",
       "0                                              Asia   900.756296   7311.992963\n",
       "1                             Australia and Oceania  1492.222000   7402.546000\n",
       "2                 Central America and the Caribbean  1460.596842   7396.853684\n",
       "3                                            Europe  2583.788478  17932.684894\n",
       "4     Middle East, North Africa, and Greater Arabia  1164.350000  11145.343913\n",
       "5                                     North America  3676.015000  25355.687500\n",
       "6                                     South America  1638.665833   6753.330833\n",
       "7                                Sub-Saharan Africa   650.119783   2266.537174"
      ]
     },
     "execution_count": 33,
     "metadata": {},
     "output_type": "execute_result"
    }
   ],
   "source": [
    "df_gdp_rate = pd.concat([df_gdp_start, df_gdp_end], axis=0)\n",
    "df_gdp_rate = df_gdp_rate.pivot_table(\n",
    "        index=\"Region\", columns=\"Year\", values=\"GDP_pp\"\n",
    "    ).reset_index()\n",
    "\n",
    "df_gdp_rate"
   ]
  },
  {
   "cell_type": "code",
   "execution_count": 34,
   "id": "6c2d805d",
   "metadata": {},
   "outputs": [],
   "source": [
    "df_gdp_rate[\"start_gdp\"] = df_gdp_rate.apply(\n",
    "    lambda row: row[1991] if row[1901]==np.nan else row[1901],\n",
    "    axis=1\n",
    ")\n",
    "\n",
    "df_gdp_rate[\"rate\"] = (df_gdp_rate[1996] - df_gdp_rate[\"start_gdp\"]) / df_gdp_rate[1996]"
   ]
  },
  {
   "cell_type": "code",
   "execution_count": 35,
   "id": "61d77c46",
   "metadata": {},
   "outputs": [
    {
     "data": {
      "text/html": [
       "<div>\n",
       "<style scoped>\n",
       "    .dataframe tbody tr th:only-of-type {\n",
       "        vertical-align: middle;\n",
       "    }\n",
       "\n",
       "    .dataframe tbody tr th {\n",
       "        vertical-align: top;\n",
       "    }\n",
       "\n",
       "    .dataframe thead th {\n",
       "        text-align: right;\n",
       "    }\n",
       "</style>\n",
       "<table border=\"1\" class=\"dataframe\">\n",
       "  <thead>\n",
       "    <tr style=\"text-align: right;\">\n",
       "      <th>Year</th>\n",
       "      <th>Region</th>\n",
       "      <th>1901</th>\n",
       "      <th>1996</th>\n",
       "      <th>start_gdp</th>\n",
       "      <th>rate</th>\n",
       "    </tr>\n",
       "  </thead>\n",
       "  <tbody>\n",
       "    <tr>\n",
       "      <th>0</th>\n",
       "      <td>Middle East, North Africa, and Greater Arabia</td>\n",
       "      <td>1164.350000</td>\n",
       "      <td>11145.343913</td>\n",
       "      <td>1164.350000</td>\n",
       "      <td>0.895530</td>\n",
       "    </tr>\n",
       "    <tr>\n",
       "      <th>1</th>\n",
       "      <td>Asia</td>\n",
       "      <td>900.756296</td>\n",
       "      <td>7311.992963</td>\n",
       "      <td>900.756296</td>\n",
       "      <td>0.876811</td>\n",
       "    </tr>\n",
       "    <tr>\n",
       "      <th>2</th>\n",
       "      <td>Europe</td>\n",
       "      <td>2583.788478</td>\n",
       "      <td>17932.684894</td>\n",
       "      <td>2583.788478</td>\n",
       "      <td>0.855917</td>\n",
       "    </tr>\n",
       "    <tr>\n",
       "      <th>3</th>\n",
       "      <td>North America</td>\n",
       "      <td>3676.015000</td>\n",
       "      <td>25355.687500</td>\n",
       "      <td>3676.015000</td>\n",
       "      <td>0.855022</td>\n",
       "    </tr>\n",
       "    <tr>\n",
       "      <th>4</th>\n",
       "      <td>Central America and the Caribbean</td>\n",
       "      <td>1460.596842</td>\n",
       "      <td>7396.853684</td>\n",
       "      <td>1460.596842</td>\n",
       "      <td>0.802538</td>\n",
       "    </tr>\n",
       "    <tr>\n",
       "      <th>5</th>\n",
       "      <td>Australia and Oceania</td>\n",
       "      <td>1492.222000</td>\n",
       "      <td>7402.546000</td>\n",
       "      <td>1492.222000</td>\n",
       "      <td>0.798418</td>\n",
       "    </tr>\n",
       "    <tr>\n",
       "      <th>6</th>\n",
       "      <td>South America</td>\n",
       "      <td>1638.665833</td>\n",
       "      <td>6753.330833</td>\n",
       "      <td>1638.665833</td>\n",
       "      <td>0.757354</td>\n",
       "    </tr>\n",
       "    <tr>\n",
       "      <th>7</th>\n",
       "      <td>Sub-Saharan Africa</td>\n",
       "      <td>650.119783</td>\n",
       "      <td>2266.537174</td>\n",
       "      <td>650.119783</td>\n",
       "      <td>0.713166</td>\n",
       "    </tr>\n",
       "  </tbody>\n",
       "</table>\n",
       "</div>"
      ],
      "text/plain": [
       "Year                                         Region         1901  \\\n",
       "0     Middle East, North Africa, and Greater Arabia  1164.350000   \n",
       "1                                              Asia   900.756296   \n",
       "2                                            Europe  2583.788478   \n",
       "3                                     North America  3676.015000   \n",
       "4                 Central America and the Caribbean  1460.596842   \n",
       "5                             Australia and Oceania  1492.222000   \n",
       "6                                     South America  1638.665833   \n",
       "7                                Sub-Saharan Africa   650.119783   \n",
       "\n",
       "Year          1996    start_gdp      rate  \n",
       "0     11145.343913  1164.350000  0.895530  \n",
       "1      7311.992963   900.756296  0.876811  \n",
       "2     17932.684894  2583.788478  0.855917  \n",
       "3     25355.687500  3676.015000  0.855022  \n",
       "4      7396.853684  1460.596842  0.802538  \n",
       "5      7402.546000  1492.222000  0.798418  \n",
       "6      6753.330833  1638.665833  0.757354  \n",
       "7      2266.537174   650.119783  0.713166  "
      ]
     },
     "execution_count": 35,
     "metadata": {},
     "output_type": "execute_result"
    }
   ],
   "source": [
    "df_gdp_rate.sort_values(by=\"rate\", ascending=False).reset_index(drop=True)"
   ]
  },
  {
   "cell_type": "markdown",
   "id": "textile-afternoon",
   "metadata": {},
   "source": [
    "- Preecha os anos ausentes em cada país com uma estimativa, baseada na diferença entre o próximo registro e o anterior."
   ]
  },
  {
   "cell_type": "code",
   "execution_count": 36,
   "id": "e1a3b9dd",
   "metadata": {},
   "outputs": [
    {
     "name": "stderr",
     "output_type": "stream",
     "text": [
      "C:\\Users\\Vinicius\\AppData\\Local\\Temp\\ipykernel_7840\\244361391.py:3: SettingWithCopyWarning: \n",
      "A value is trying to be set on a copy of a slice from a DataFrame.\n",
      "Try using .loc[row_indexer,col_indexer] = value instead\n",
      "\n",
      "See the caveats in the documentation: https://pandas.pydata.org/pandas-docs/stable/user_guide/indexing.html#returning-a-view-versus-a-copy\n",
      "  temp.loc[:, \"delta_GDP_pp\"] = temp[\"GDP_pp\"] - temp[\"GDP_pp\"].shift(1)\n",
      "C:\\Users\\Vinicius\\AppData\\Local\\Temp\\ipykernel_7840\\244361391.py:4: SettingWithCopyWarning: \n",
      "A value is trying to be set on a copy of a slice from a DataFrame.\n",
      "Try using .loc[row_indexer,col_indexer] = value instead\n",
      "\n",
      "See the caveats in the documentation: https://pandas.pydata.org/pandas-docs/stable/user_guide/indexing.html#returning-a-view-versus-a-copy\n",
      "  temp.loc[:, \"delta_Year\"] = temp[\"Year\"] - temp[\"Year\"].shift(1)\n"
     ]
    }
   ],
   "source": [
    "for country in df_gdp[\"Country\"].unique():\n",
    "    temp = df_gdp[df_gdp[\"Country\"]==country]\n",
    "    temp.loc[:, \"delta_GDP_pp\"] = temp[\"GDP_pp\"] - temp[\"GDP_pp\"].shift(1)\n",
    "    temp.loc[:, \"delta_Year\"] = temp[\"Year\"] - temp[\"Year\"].shift(1)\n",
    "    df_gdp.loc[df_gdp[\"Country\"]==country, \"delta_GDP_pp\"] = temp[\"delta_GDP_pp\"]\n",
    "    df_gdp.loc[df_gdp[\"Country\"]==country, \"delta_Year\"] = temp[\"delta_Year\"]"
   ]
  },
  {
   "cell_type": "code",
   "execution_count": 37,
   "id": "a48bc796",
   "metadata": {},
   "outputs": [],
   "source": [
    "df_gdp[\"avg_rate_year\"] = (df_gdp[\"delta_GDP_pp\"] / df_gdp[\"delta_Year\"]).shift(-1)"
   ]
  },
  {
   "cell_type": "code",
   "execution_count": 38,
   "id": "c423faad",
   "metadata": {},
   "outputs": [],
   "source": [
    "years_range = np.arange(df_gdp[\"Year\"].min(), df_gdp[\"Year\"].max()+1)"
   ]
  },
  {
   "cell_type": "code",
   "execution_count": 39,
   "id": "802f0fde",
   "metadata": {},
   "outputs": [],
   "source": [
    "df_gdp_new = df_gdp.loc[:, [\"Country\", \"Region\"]].drop_duplicates()\n",
    "df_gdp_new[\"Year\"] = \"\"\n",
    "df_gdp_new[\"Year\"] = df_gdp_new[\"Year\"].apply(\n",
    "    lambda x: years_range\n",
    ")\n",
    "\n",
    "df_gdp_new = df_gdp_new.explode(\"Year\").reset_index(drop=True)"
   ]
  },
  {
   "cell_type": "code",
   "execution_count": 40,
   "id": "f78151fd",
   "metadata": {},
   "outputs": [],
   "source": [
    "df_gdp_new = pd.merge(\n",
    "    left=df_gdp_new,\n",
    "    right=df_gdp,\n",
    "    on=[\"Country\", \"Region\", \"Year\"],\n",
    "    how=\"left\"\n",
    "    )\n",
    "\n",
    "df_gdp_new[\"avg_rate_year\"] = df_gdp_new[\"avg_rate_year\"].ffill()\n",
    "\n",
    "df_gdp_new[\"Tipo_Valor\"] = df_gdp_new[\"GDP_pp\"].apply(\n",
    "    lambda x: \"Estimado\" if np.isnan(x) else \"Real\"\n",
    ")"
   ]
  },
  {
   "cell_type": "code",
   "execution_count": 41,
   "id": "2aa5f6b6",
   "metadata": {},
   "outputs": [],
   "source": [
    "for country in df_gdp_new[\"Country\"].unique():\n",
    "    temp = df_gdp_new.loc[df_gdp_new[\"Country\"]==country]\n",
    "    start_index = temp[temp[\"Tipo_Valor\"]==\"Real\"].index.min()\n",
    "\n",
    "    temp = temp.loc[start_index:, :]#.reset_index(drop=True)\n",
    "\n",
    "    for i in temp.index:\n",
    "        if temp.loc[i, \"Tipo_Valor\"] == \"Real\":\n",
    "            value = temp.loc[i, \"GDP_pp\"]\n",
    "        else:\n",
    "            value = temp.loc[i-1, \"GDP_pp_New\"] * (temp.loc[i, \"avg_rate_year\"]/100)\n",
    "            value = temp.loc[i-1, \"GDP_pp_New\"] + value\n",
    "\n",
    "        temp.loc[i, \"GDP_pp_New\"] = float(value)\n",
    "\n",
    "    df_gdp_new.loc[df_gdp_new[\"Country\"]==country, \"GDP_pp_New\"] = temp[\"GDP_pp_New\"]\n",
    "\n",
    "df_gdp_new = df_gdp_new.loc[:, [\"Country\", \"Region\", \"Year\", \"GDP_pp_New\"]]"
   ]
  },
  {
   "cell_type": "code",
   "execution_count": 42,
   "id": "ff709393",
   "metadata": {},
   "outputs": [
    {
     "data": {
      "text/html": [
       "<div>\n",
       "<style scoped>\n",
       "    .dataframe tbody tr th:only-of-type {\n",
       "        vertical-align: middle;\n",
       "    }\n",
       "\n",
       "    .dataframe tbody tr th {\n",
       "        vertical-align: top;\n",
       "    }\n",
       "\n",
       "    .dataframe thead th {\n",
       "        text-align: right;\n",
       "    }\n",
       "</style>\n",
       "<table border=\"1\" class=\"dataframe\">\n",
       "  <thead>\n",
       "    <tr style=\"text-align: right;\">\n",
       "      <th></th>\n",
       "      <th>Country</th>\n",
       "      <th>Region</th>\n",
       "      <th>Year</th>\n",
       "      <th>GDP_pp_New</th>\n",
       "    </tr>\n",
       "  </thead>\n",
       "  <tbody>\n",
       "    <tr>\n",
       "      <th>2553</th>\n",
       "      <td>Brazil</td>\n",
       "      <td>South America</td>\n",
       "      <td>1901</td>\n",
       "      <td>6.484800e+02</td>\n",
       "    </tr>\n",
       "    <tr>\n",
       "      <th>2554</th>\n",
       "      <td>Brazil</td>\n",
       "      <td>South America</td>\n",
       "      <td>1902</td>\n",
       "      <td>7.113696e+02</td>\n",
       "    </tr>\n",
       "    <tr>\n",
       "      <th>2555</th>\n",
       "      <td>Brazil</td>\n",
       "      <td>South America</td>\n",
       "      <td>1903</td>\n",
       "      <td>7.803582e+02</td>\n",
       "    </tr>\n",
       "    <tr>\n",
       "      <th>2556</th>\n",
       "      <td>Brazil</td>\n",
       "      <td>South America</td>\n",
       "      <td>1904</td>\n",
       "      <td>8.560374e+02</td>\n",
       "    </tr>\n",
       "    <tr>\n",
       "      <th>2557</th>\n",
       "      <td>Brazil</td>\n",
       "      <td>South America</td>\n",
       "      <td>1905</td>\n",
       "      <td>9.390559e+02</td>\n",
       "    </tr>\n",
       "    <tr>\n",
       "      <th>...</th>\n",
       "      <td>...</td>\n",
       "      <td>...</td>\n",
       "      <td>...</td>\n",
       "      <td>...</td>\n",
       "    </tr>\n",
       "    <tr>\n",
       "      <th>2659</th>\n",
       "      <td>Brazil</td>\n",
       "      <td>South America</td>\n",
       "      <td>2007</td>\n",
       "      <td>3.608843e+04</td>\n",
       "    </tr>\n",
       "    <tr>\n",
       "      <th>2660</th>\n",
       "      <td>Brazil</td>\n",
       "      <td>South America</td>\n",
       "      <td>2008</td>\n",
       "      <td>1.472870e+05</td>\n",
       "    </tr>\n",
       "    <tr>\n",
       "      <th>2661</th>\n",
       "      <td>Brazil</td>\n",
       "      <td>South America</td>\n",
       "      <td>2009</td>\n",
       "      <td>6.011195e+05</td>\n",
       "    </tr>\n",
       "    <tr>\n",
       "      <th>2662</th>\n",
       "      <td>Brazil</td>\n",
       "      <td>South America</td>\n",
       "      <td>2010</td>\n",
       "      <td>2.453337e+06</td>\n",
       "    </tr>\n",
       "    <tr>\n",
       "      <th>2663</th>\n",
       "      <td>Brazil</td>\n",
       "      <td>South America</td>\n",
       "      <td>2011</td>\n",
       "      <td>1.038307e+04</td>\n",
       "    </tr>\n",
       "  </tbody>\n",
       "</table>\n",
       "<p>111 rows × 4 columns</p>\n",
       "</div>"
      ],
      "text/plain": [
       "     Country         Region  Year    GDP_pp_New\n",
       "2553  Brazil  South America  1901  6.484800e+02\n",
       "2554  Brazil  South America  1902  7.113696e+02\n",
       "2555  Brazil  South America  1903  7.803582e+02\n",
       "2556  Brazil  South America  1904  8.560374e+02\n",
       "2557  Brazil  South America  1905  9.390559e+02\n",
       "...      ...            ...   ...           ...\n",
       "2659  Brazil  South America  2007  3.608843e+04\n",
       "2660  Brazil  South America  2008  1.472870e+05\n",
       "2661  Brazil  South America  2009  6.011195e+05\n",
       "2662  Brazil  South America  2010  2.453337e+06\n",
       "2663  Brazil  South America  2011  1.038307e+04\n",
       "\n",
       "[111 rows x 4 columns]"
      ]
     },
     "execution_count": 42,
     "metadata": {},
     "output_type": "execute_result"
    }
   ],
   "source": [
    "df_gdp_new.loc[df_gdp_new[\"Country\"]==\"Brazil\"]"
   ]
  }
 ],
 "metadata": {
  "kernelspec": {
   "display_name": "Python 3",
   "language": "python",
   "name": "python3"
  },
  "language_info": {
   "codemirror_mode": {
    "name": "ipython",
    "version": 3
   },
   "file_extension": ".py",
   "mimetype": "text/x-python",
   "name": "python",
   "nbconvert_exporter": "python",
   "pygments_lexer": "ipython3",
   "version": "3.12.2"
  }
 },
 "nbformat": 4,
 "nbformat_minor": 5
}
